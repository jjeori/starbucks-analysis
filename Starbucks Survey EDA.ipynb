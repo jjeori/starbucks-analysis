{
 "cells": [
  {
   "cell_type": "markdown",
   "id": "69f3d0eb",
   "metadata": {},
   "source": [
    "## 스타벅스 이벤트 관련 고객 설문 데이터\n",
    "\n",
    "- 스타벅스 고객들의 이벤트 관련 설문에 응답한 데이터의 일부입니다.\n",
    "\n",
    "\n",
    "- 해당 데이터에서 고객들이 이벤트에 대한 응답을 어떻게 하는지 찾고 고객 프로모션 개선방안에 대한 인사이트를 찾습니다."
   ]
  },
  {
   "cell_type": "markdown",
   "id": "9d4289b5",
   "metadata": {},
   "source": [
    "### 0. Data Description\n",
    "\n",
    "1. Profile table\n",
    "\n",
    "> profile 데이터는 설문에 참여한 스타벅스 회원에 관련된 정보가 담겨 있습니다.\n",
    "\n",
    "\n",
    "2. transcript\n",
    "\n",
    "> 이벤트에 참여한 실제 유저들의 응답이 기록되어 있습니다.\n",
    "\n",
    "\n",
    "3. portfoilo\n",
    "\n",
    "> 이벤트를 운영했던 내역에 관한 정보가 담겨 있습니다."
   ]
  },
  {
   "cell_type": "markdown",
   "id": "6b80981d",
   "metadata": {},
   "source": [
    "### 1. 라이브러리 및 데이터 로드\n",
    "\n",
    "- 분석에 필요한 데이터와, 라이브러리를 불러옵니다."
   ]
  },
  {
   "cell_type": "code",
   "execution_count": 2,
   "id": "f8ea8518",
   "metadata": {},
   "outputs": [],
   "source": [
    "# 데이터 분석 필수 라이브러리 세트 불러오기\n",
    "import numpy as np\n",
    "import pandas as pd\n",
    "import matplotlib.pyplot as plt\n",
    "import seaborn as sns\n",
    "from datetime import datetime"
   ]
  },
  {
   "cell_type": "code",
   "execution_count": 3,
   "id": "fc05db09",
   "metadata": {},
   "outputs": [],
   "source": [
    "# Starbucks Customer Data 폴더안에 있는 데이터 3개를 불러오기\n",
    "transcript = pd.read_csv('/Users/jjeori/Desktop/transcript.csv')\n",
    "portfolio = pd.read_csv('/Users/jjeori/Desktop/portfolio.csv')\n",
    "profile = pd.read_csv(\"/Users/jjeori/Desktop/profile.csv\")"
   ]
  },
  {
   "cell_type": "markdown",
   "id": "22efe632",
   "metadata": {},
   "source": [
    "### 2. 데이터 전처리 및 불필요한 칼럼 제거\n",
    "\n",
    "- 결측치가 존재하는 데이터를 찾아서, 결측치를 처리해줍니다."
   ]
  },
  {
   "cell_type": "code",
   "execution_count": 4,
   "id": "1bd67012",
   "metadata": {},
   "outputs": [
    {
     "data": {
      "text/html": [
       "<div>\n",
       "<style scoped>\n",
       "    .dataframe tbody tr th:only-of-type {\n",
       "        vertical-align: middle;\n",
       "    }\n",
       "\n",
       "    .dataframe tbody tr th {\n",
       "        vertical-align: top;\n",
       "    }\n",
       "\n",
       "    .dataframe thead th {\n",
       "        text-align: right;\n",
       "    }\n",
       "</style>\n",
       "<table border=\"1\" class=\"dataframe\">\n",
       "  <thead>\n",
       "    <tr style=\"text-align: right;\">\n",
       "      <th></th>\n",
       "      <th>Unnamed: 0</th>\n",
       "      <th>gender</th>\n",
       "      <th>age</th>\n",
       "      <th>id</th>\n",
       "      <th>became_member_on</th>\n",
       "      <th>income</th>\n",
       "    </tr>\n",
       "  </thead>\n",
       "  <tbody>\n",
       "    <tr>\n",
       "      <th>0</th>\n",
       "      <td>0</td>\n",
       "      <td>NaN</td>\n",
       "      <td>118</td>\n",
       "      <td>68be06ca386d4c31939f3a4f0e3dd783</td>\n",
       "      <td>20170212</td>\n",
       "      <td>NaN</td>\n",
       "    </tr>\n",
       "    <tr>\n",
       "      <th>1</th>\n",
       "      <td>1</td>\n",
       "      <td>F</td>\n",
       "      <td>55</td>\n",
       "      <td>0610b486422d4921ae7d2bf64640c50b</td>\n",
       "      <td>20170715</td>\n",
       "      <td>112000.0</td>\n",
       "    </tr>\n",
       "    <tr>\n",
       "      <th>2</th>\n",
       "      <td>2</td>\n",
       "      <td>NaN</td>\n",
       "      <td>118</td>\n",
       "      <td>38fe809add3b4fcf9315a9694bb96ff5</td>\n",
       "      <td>20180712</td>\n",
       "      <td>NaN</td>\n",
       "    </tr>\n",
       "    <tr>\n",
       "      <th>3</th>\n",
       "      <td>3</td>\n",
       "      <td>F</td>\n",
       "      <td>75</td>\n",
       "      <td>78afa995795e4d85b5d9ceeca43f5fef</td>\n",
       "      <td>20170509</td>\n",
       "      <td>100000.0</td>\n",
       "    </tr>\n",
       "    <tr>\n",
       "      <th>4</th>\n",
       "      <td>4</td>\n",
       "      <td>NaN</td>\n",
       "      <td>118</td>\n",
       "      <td>a03223e636434f42ac4c3df47e8bac43</td>\n",
       "      <td>20170804</td>\n",
       "      <td>NaN</td>\n",
       "    </tr>\n",
       "    <tr>\n",
       "      <th>...</th>\n",
       "      <td>...</td>\n",
       "      <td>...</td>\n",
       "      <td>...</td>\n",
       "      <td>...</td>\n",
       "      <td>...</td>\n",
       "      <td>...</td>\n",
       "    </tr>\n",
       "    <tr>\n",
       "      <th>16995</th>\n",
       "      <td>16995</td>\n",
       "      <td>F</td>\n",
       "      <td>45</td>\n",
       "      <td>6d5f3a774f3d4714ab0c092238f3a1d7</td>\n",
       "      <td>20180604</td>\n",
       "      <td>54000.0</td>\n",
       "    </tr>\n",
       "    <tr>\n",
       "      <th>16996</th>\n",
       "      <td>16996</td>\n",
       "      <td>M</td>\n",
       "      <td>61</td>\n",
       "      <td>2cb4f97358b841b9a9773a7aa05a9d77</td>\n",
       "      <td>20180713</td>\n",
       "      <td>72000.0</td>\n",
       "    </tr>\n",
       "    <tr>\n",
       "      <th>16997</th>\n",
       "      <td>16997</td>\n",
       "      <td>M</td>\n",
       "      <td>49</td>\n",
       "      <td>01d26f638c274aa0b965d24cefe3183f</td>\n",
       "      <td>20170126</td>\n",
       "      <td>73000.0</td>\n",
       "    </tr>\n",
       "    <tr>\n",
       "      <th>16998</th>\n",
       "      <td>16998</td>\n",
       "      <td>F</td>\n",
       "      <td>83</td>\n",
       "      <td>9dc1421481194dcd9400aec7c9ae6366</td>\n",
       "      <td>20160307</td>\n",
       "      <td>50000.0</td>\n",
       "    </tr>\n",
       "    <tr>\n",
       "      <th>16999</th>\n",
       "      <td>16999</td>\n",
       "      <td>F</td>\n",
       "      <td>62</td>\n",
       "      <td>e4052622e5ba45a8b96b59aba68cf068</td>\n",
       "      <td>20170722</td>\n",
       "      <td>82000.0</td>\n",
       "    </tr>\n",
       "  </tbody>\n",
       "</table>\n",
       "<p>17000 rows × 6 columns</p>\n",
       "</div>"
      ],
      "text/plain": [
       "       Unnamed: 0 gender  age                                id  \\\n",
       "0               0    NaN  118  68be06ca386d4c31939f3a4f0e3dd783   \n",
       "1               1      F   55  0610b486422d4921ae7d2bf64640c50b   \n",
       "2               2    NaN  118  38fe809add3b4fcf9315a9694bb96ff5   \n",
       "3               3      F   75  78afa995795e4d85b5d9ceeca43f5fef   \n",
       "4               4    NaN  118  a03223e636434f42ac4c3df47e8bac43   \n",
       "...           ...    ...  ...                               ...   \n",
       "16995       16995      F   45  6d5f3a774f3d4714ab0c092238f3a1d7   \n",
       "16996       16996      M   61  2cb4f97358b841b9a9773a7aa05a9d77   \n",
       "16997       16997      M   49  01d26f638c274aa0b965d24cefe3183f   \n",
       "16998       16998      F   83  9dc1421481194dcd9400aec7c9ae6366   \n",
       "16999       16999      F   62  e4052622e5ba45a8b96b59aba68cf068   \n",
       "\n",
       "       became_member_on    income  \n",
       "0              20170212       NaN  \n",
       "1              20170715  112000.0  \n",
       "2              20180712       NaN  \n",
       "3              20170509  100000.0  \n",
       "4              20170804       NaN  \n",
       "...                 ...       ...  \n",
       "16995          20180604   54000.0  \n",
       "16996          20180713   72000.0  \n",
       "16997          20170126   73000.0  \n",
       "16998          20160307   50000.0  \n",
       "16999          20170722   82000.0  \n",
       "\n",
       "[17000 rows x 6 columns]"
      ]
     },
     "execution_count": 4,
     "metadata": {},
     "output_type": "execute_result"
    }
   ],
   "source": [
    "profile"
   ]
  },
  {
   "cell_type": "markdown",
   "id": "4cc3f00d",
   "metadata": {},
   "source": [
    "##### 결측값이 있지만, 막연하게 dropna를 통해서 제거하기 보다는 활용할 수 있는 became_member_on 값은 정상적으로 되어 있는 것을 확인 할 수 있다.\n",
    "> 원하는 칼럼만 따로 뽑고, 나머지 전처리를 하자."
   ]
  },
  {
   "cell_type": "code",
   "execution_count": 5,
   "id": "382c0b21",
   "metadata": {},
   "outputs": [],
   "source": [
    "# 해당 칼럼을 보기 쉽게 변경하기\n",
    "profile.columns = ['제거', '성별', '나이', '제거2', '가입일','수입']"
   ]
  },
  {
   "cell_type": "code",
   "execution_count": 6,
   "id": "d98aec43",
   "metadata": {},
   "outputs": [],
   "source": [
    "# 불필요한 칼럼 제거 및 결측값 제거\n",
    "profile = profile.drop(['제거', '제거2'], axis = 1)\n",
    "profile = profile.dropna()"
   ]
  },
  {
   "cell_type": "code",
   "execution_count": 7,
   "id": "526bbf42",
   "metadata": {},
   "outputs": [
    {
     "data": {
      "text/html": [
       "<div>\n",
       "<style scoped>\n",
       "    .dataframe tbody tr th:only-of-type {\n",
       "        vertical-align: middle;\n",
       "    }\n",
       "\n",
       "    .dataframe tbody tr th {\n",
       "        vertical-align: top;\n",
       "    }\n",
       "\n",
       "    .dataframe thead th {\n",
       "        text-align: right;\n",
       "    }\n",
       "</style>\n",
       "<table border=\"1\" class=\"dataframe\">\n",
       "  <thead>\n",
       "    <tr style=\"text-align: right;\">\n",
       "      <th></th>\n",
       "      <th>성별</th>\n",
       "      <th>나이</th>\n",
       "      <th>가입일</th>\n",
       "      <th>수입</th>\n",
       "    </tr>\n",
       "  </thead>\n",
       "  <tbody>\n",
       "    <tr>\n",
       "      <th>1</th>\n",
       "      <td>F</td>\n",
       "      <td>55</td>\n",
       "      <td>20170715</td>\n",
       "      <td>112000.0</td>\n",
       "    </tr>\n",
       "    <tr>\n",
       "      <th>3</th>\n",
       "      <td>F</td>\n",
       "      <td>75</td>\n",
       "      <td>20170509</td>\n",
       "      <td>100000.0</td>\n",
       "    </tr>\n",
       "    <tr>\n",
       "      <th>5</th>\n",
       "      <td>M</td>\n",
       "      <td>68</td>\n",
       "      <td>20180426</td>\n",
       "      <td>70000.0</td>\n",
       "    </tr>\n",
       "    <tr>\n",
       "      <th>8</th>\n",
       "      <td>M</td>\n",
       "      <td>65</td>\n",
       "      <td>20180209</td>\n",
       "      <td>53000.0</td>\n",
       "    </tr>\n",
       "    <tr>\n",
       "      <th>12</th>\n",
       "      <td>M</td>\n",
       "      <td>58</td>\n",
       "      <td>20171111</td>\n",
       "      <td>51000.0</td>\n",
       "    </tr>\n",
       "    <tr>\n",
       "      <th>...</th>\n",
       "      <td>...</td>\n",
       "      <td>...</td>\n",
       "      <td>...</td>\n",
       "      <td>...</td>\n",
       "    </tr>\n",
       "    <tr>\n",
       "      <th>16995</th>\n",
       "      <td>F</td>\n",
       "      <td>45</td>\n",
       "      <td>20180604</td>\n",
       "      <td>54000.0</td>\n",
       "    </tr>\n",
       "    <tr>\n",
       "      <th>16996</th>\n",
       "      <td>M</td>\n",
       "      <td>61</td>\n",
       "      <td>20180713</td>\n",
       "      <td>72000.0</td>\n",
       "    </tr>\n",
       "    <tr>\n",
       "      <th>16997</th>\n",
       "      <td>M</td>\n",
       "      <td>49</td>\n",
       "      <td>20170126</td>\n",
       "      <td>73000.0</td>\n",
       "    </tr>\n",
       "    <tr>\n",
       "      <th>16998</th>\n",
       "      <td>F</td>\n",
       "      <td>83</td>\n",
       "      <td>20160307</td>\n",
       "      <td>50000.0</td>\n",
       "    </tr>\n",
       "    <tr>\n",
       "      <th>16999</th>\n",
       "      <td>F</td>\n",
       "      <td>62</td>\n",
       "      <td>20170722</td>\n",
       "      <td>82000.0</td>\n",
       "    </tr>\n",
       "  </tbody>\n",
       "</table>\n",
       "<p>14825 rows × 4 columns</p>\n",
       "</div>"
      ],
      "text/plain": [
       "      성별  나이       가입일        수입\n",
       "1      F  55  20170715  112000.0\n",
       "3      F  75  20170509  100000.0\n",
       "5      M  68  20180426   70000.0\n",
       "8      M  65  20180209   53000.0\n",
       "12     M  58  20171111   51000.0\n",
       "...   ..  ..       ...       ...\n",
       "16995  F  45  20180604   54000.0\n",
       "16996  M  61  20180713   72000.0\n",
       "16997  M  49  20170126   73000.0\n",
       "16998  F  83  20160307   50000.0\n",
       "16999  F  62  20170722   82000.0\n",
       "\n",
       "[14825 rows x 4 columns]"
      ]
     },
     "execution_count": 7,
     "metadata": {},
     "output_type": "execute_result"
    }
   ],
   "source": [
    "profile"
   ]
  },
  {
   "cell_type": "code",
   "execution_count": 8,
   "id": "63507716",
   "metadata": {},
   "outputs": [],
   "source": [
    "portfolio =portfolio.drop(['Unnamed: 0', 'id'], axis = 1)"
   ]
  },
  {
   "cell_type": "code",
   "execution_count": 9,
   "id": "905347fd",
   "metadata": {},
   "outputs": [],
   "source": [
    "portfolio.columns = ['보상', '채널', '어려움', '지속', '제안유형']"
   ]
  },
  {
   "cell_type": "code",
   "execution_count": 10,
   "id": "8fe83700",
   "metadata": {},
   "outputs": [
    {
     "data": {
      "text/plain": [
       "보상      0\n",
       "채널      0\n",
       "어려움     0\n",
       "지속      0\n",
       "제안유형    0\n",
       "dtype: int64"
      ]
     },
     "execution_count": 10,
     "metadata": {},
     "output_type": "execute_result"
    }
   ],
   "source": [
    "portfolio.isnull().sum()"
   ]
  },
  {
   "cell_type": "code",
   "execution_count": 11,
   "id": "df46b9e2",
   "metadata": {},
   "outputs": [
    {
     "data": {
      "text/html": [
       "<div>\n",
       "<style scoped>\n",
       "    .dataframe tbody tr th:only-of-type {\n",
       "        vertical-align: middle;\n",
       "    }\n",
       "\n",
       "    .dataframe tbody tr th {\n",
       "        vertical-align: top;\n",
       "    }\n",
       "\n",
       "    .dataframe thead th {\n",
       "        text-align: right;\n",
       "    }\n",
       "</style>\n",
       "<table border=\"1\" class=\"dataframe\">\n",
       "  <thead>\n",
       "    <tr style=\"text-align: right;\">\n",
       "      <th></th>\n",
       "      <th>event</th>\n",
       "      <th>time</th>\n",
       "    </tr>\n",
       "  </thead>\n",
       "  <tbody>\n",
       "    <tr>\n",
       "      <th>0</th>\n",
       "      <td>offer received</td>\n",
       "      <td>0</td>\n",
       "    </tr>\n",
       "    <tr>\n",
       "      <th>1</th>\n",
       "      <td>offer received</td>\n",
       "      <td>0</td>\n",
       "    </tr>\n",
       "    <tr>\n",
       "      <th>2</th>\n",
       "      <td>offer received</td>\n",
       "      <td>0</td>\n",
       "    </tr>\n",
       "    <tr>\n",
       "      <th>3</th>\n",
       "      <td>offer received</td>\n",
       "      <td>0</td>\n",
       "    </tr>\n",
       "    <tr>\n",
       "      <th>4</th>\n",
       "      <td>offer received</td>\n",
       "      <td>0</td>\n",
       "    </tr>\n",
       "    <tr>\n",
       "      <th>...</th>\n",
       "      <td>...</td>\n",
       "      <td>...</td>\n",
       "    </tr>\n",
       "    <tr>\n",
       "      <th>306529</th>\n",
       "      <td>transaction</td>\n",
       "      <td>714</td>\n",
       "    </tr>\n",
       "    <tr>\n",
       "      <th>306530</th>\n",
       "      <td>transaction</td>\n",
       "      <td>714</td>\n",
       "    </tr>\n",
       "    <tr>\n",
       "      <th>306531</th>\n",
       "      <td>transaction</td>\n",
       "      <td>714</td>\n",
       "    </tr>\n",
       "    <tr>\n",
       "      <th>306532</th>\n",
       "      <td>transaction</td>\n",
       "      <td>714</td>\n",
       "    </tr>\n",
       "    <tr>\n",
       "      <th>306533</th>\n",
       "      <td>transaction</td>\n",
       "      <td>714</td>\n",
       "    </tr>\n",
       "  </tbody>\n",
       "</table>\n",
       "<p>306534 rows × 2 columns</p>\n",
       "</div>"
      ],
      "text/plain": [
       "                 event  time\n",
       "0       offer received     0\n",
       "1       offer received     0\n",
       "2       offer received     0\n",
       "3       offer received     0\n",
       "4       offer received     0\n",
       "...                ...   ...\n",
       "306529     transaction   714\n",
       "306530     transaction   714\n",
       "306531     transaction   714\n",
       "306532     transaction   714\n",
       "306533     transaction   714\n",
       "\n",
       "[306534 rows x 2 columns]"
      ]
     },
     "execution_count": 11,
     "metadata": {},
     "output_type": "execute_result"
    }
   ],
   "source": [
    "transcript.drop(['Unnamed: 0', 'person', 'value'], axis = 1)"
   ]
  },
  {
   "cell_type": "code",
   "execution_count": 12,
   "id": "21b556de",
   "metadata": {},
   "outputs": [
    {
     "data": {
      "text/html": [
       "<div>\n",
       "<style scoped>\n",
       "    .dataframe tbody tr th:only-of-type {\n",
       "        vertical-align: middle;\n",
       "    }\n",
       "\n",
       "    .dataframe tbody tr th {\n",
       "        vertical-align: top;\n",
       "    }\n",
       "\n",
       "    .dataframe thead th {\n",
       "        text-align: right;\n",
       "    }\n",
       "</style>\n",
       "<table border=\"1\" class=\"dataframe\">\n",
       "  <thead>\n",
       "    <tr style=\"text-align: right;\">\n",
       "      <th></th>\n",
       "      <th>보상</th>\n",
       "      <th>채널</th>\n",
       "      <th>어려움</th>\n",
       "      <th>지속</th>\n",
       "      <th>제안유형</th>\n",
       "    </tr>\n",
       "  </thead>\n",
       "  <tbody>\n",
       "    <tr>\n",
       "      <th>0</th>\n",
       "      <td>10</td>\n",
       "      <td>['email', 'mobile', 'social']</td>\n",
       "      <td>10</td>\n",
       "      <td>7</td>\n",
       "      <td>bogo</td>\n",
       "    </tr>\n",
       "    <tr>\n",
       "      <th>1</th>\n",
       "      <td>10</td>\n",
       "      <td>['web', 'email', 'mobile', 'social']</td>\n",
       "      <td>10</td>\n",
       "      <td>5</td>\n",
       "      <td>bogo</td>\n",
       "    </tr>\n",
       "    <tr>\n",
       "      <th>2</th>\n",
       "      <td>0</td>\n",
       "      <td>['web', 'email', 'mobile']</td>\n",
       "      <td>0</td>\n",
       "      <td>4</td>\n",
       "      <td>informational</td>\n",
       "    </tr>\n",
       "    <tr>\n",
       "      <th>3</th>\n",
       "      <td>5</td>\n",
       "      <td>['web', 'email', 'mobile']</td>\n",
       "      <td>5</td>\n",
       "      <td>7</td>\n",
       "      <td>bogo</td>\n",
       "    </tr>\n",
       "    <tr>\n",
       "      <th>4</th>\n",
       "      <td>5</td>\n",
       "      <td>['web', 'email']</td>\n",
       "      <td>20</td>\n",
       "      <td>10</td>\n",
       "      <td>discount</td>\n",
       "    </tr>\n",
       "    <tr>\n",
       "      <th>5</th>\n",
       "      <td>3</td>\n",
       "      <td>['web', 'email', 'mobile', 'social']</td>\n",
       "      <td>7</td>\n",
       "      <td>7</td>\n",
       "      <td>discount</td>\n",
       "    </tr>\n",
       "    <tr>\n",
       "      <th>6</th>\n",
       "      <td>2</td>\n",
       "      <td>['web', 'email', 'mobile', 'social']</td>\n",
       "      <td>10</td>\n",
       "      <td>10</td>\n",
       "      <td>discount</td>\n",
       "    </tr>\n",
       "    <tr>\n",
       "      <th>7</th>\n",
       "      <td>0</td>\n",
       "      <td>['email', 'mobile', 'social']</td>\n",
       "      <td>0</td>\n",
       "      <td>3</td>\n",
       "      <td>informational</td>\n",
       "    </tr>\n",
       "    <tr>\n",
       "      <th>8</th>\n",
       "      <td>5</td>\n",
       "      <td>['web', 'email', 'mobile', 'social']</td>\n",
       "      <td>5</td>\n",
       "      <td>5</td>\n",
       "      <td>bogo</td>\n",
       "    </tr>\n",
       "    <tr>\n",
       "      <th>9</th>\n",
       "      <td>2</td>\n",
       "      <td>['web', 'email', 'mobile']</td>\n",
       "      <td>10</td>\n",
       "      <td>7</td>\n",
       "      <td>discount</td>\n",
       "    </tr>\n",
       "  </tbody>\n",
       "</table>\n",
       "</div>"
      ],
      "text/plain": [
       "   보상                                    채널  어려움  지속           제안유형\n",
       "0  10         ['email', 'mobile', 'social']   10   7           bogo\n",
       "1  10  ['web', 'email', 'mobile', 'social']   10   5           bogo\n",
       "2   0            ['web', 'email', 'mobile']    0   4  informational\n",
       "3   5            ['web', 'email', 'mobile']    5   7           bogo\n",
       "4   5                      ['web', 'email']   20  10       discount\n",
       "5   3  ['web', 'email', 'mobile', 'social']    7   7       discount\n",
       "6   2  ['web', 'email', 'mobile', 'social']   10  10       discount\n",
       "7   0         ['email', 'mobile', 'social']    0   3  informational\n",
       "8   5  ['web', 'email', 'mobile', 'social']    5   5           bogo\n",
       "9   2            ['web', 'email', 'mobile']   10   7       discount"
      ]
     },
     "execution_count": 12,
     "metadata": {},
     "output_type": "execute_result"
    }
   ],
   "source": [
    "portfolio"
   ]
  },
  {
   "cell_type": "code",
   "execution_count": 13,
   "id": "7cc7b88f",
   "metadata": {},
   "outputs": [],
   "source": [
    "# 불필요한 변수 제거해주기\n",
    "transcript = transcript.drop(['Unnamed: 0', 'person', 'value'], axis = 1)"
   ]
  },
  {
   "cell_type": "code",
   "execution_count": 14,
   "id": "f2dc6594",
   "metadata": {},
   "outputs": [
    {
     "data": {
      "text/plain": [
       "event    0\n",
       "time     0\n",
       "dtype: int64"
      ]
     },
     "execution_count": 14,
     "metadata": {},
     "output_type": "execute_result"
    }
   ],
   "source": [
    "# 결측치 여부 판단\n",
    "transcript.isnull().sum()"
   ]
  },
  {
   "cell_type": "markdown",
   "id": "678a5f20",
   "metadata": {},
   "source": [
    "### 3. profile 데이터 분석\n",
    "\n",
    "- 설문에 참여한 사람 중, 정상적인 데이터로 판단된 데이터에 대한 분석을 수행합니다.\n",
    "\n",
    "\n",
    "- 각 column마다 원하는 통계량을 찾은 뒤, 해당 통계량을 멋지게 시각화해 줄 plot을 seaborn에서 가져와 구현합니다.\n",
    "\n",
    "- **정제된 데이터를 통해 각 칼럼 세분화하기**\n",
    "1) 성별 분리\n",
    "2) 연령대별로 분리\n",
    "3) 가입일을 년도, 월별로 분리\n",
    "4) 소득(?)"
   ]
  },
  {
   "cell_type": "code",
   "execution_count": 15,
   "id": "3241e009",
   "metadata": {},
   "outputs": [],
   "source": [
    "# 성별 분리하기 1\n",
    "profile_m = profile[profile['성별'] == 'M']\n",
    "profile_f = profile[profile['성별'] == 'F']"
   ]
  },
  {
   "cell_type": "code",
   "execution_count": 16,
   "id": "2f7c9bac",
   "metadata": {},
   "outputs": [],
   "source": [
    "# 성별 분리하기 2\n",
    "profile_m = profile_m.reset_index(drop = True)\n",
    "profile_f = profile_f.reset_index(drop = True)"
   ]
  },
  {
   "cell_type": "code",
   "execution_count": 17,
   "id": "932b2e2f",
   "metadata": {},
   "outputs": [],
   "source": [
    "# 남성과 여성의 각 나이 Series 도출하기\n",
    "profile_age_m = profile_m['나이']\n",
    "profile_age_f = profile_f['나이']"
   ]
  },
  {
   "cell_type": "code",
   "execution_count": 18,
   "id": "ffce2310",
   "metadata": {},
   "outputs": [],
   "source": [
    "# 연령대별로 분리하기\n",
    "# Serise라면 for을 통해서 값을 list에 추가할 수 있다.\n",
    "# 목적은 각 연령대별로 어느 연령대가 많이 참여했는지 확인하기 위함\n",
    "\n",
    "def ages_suction(ages):\n",
    "    age_10 = []\n",
    "    age_20 = []\n",
    "    age_30 = []\n",
    "    age_40 = []\n",
    "    age_50 = []\n",
    "    age_60 = []\n",
    "    age_70 = []\n",
    "    age_80 = []\n",
    "    age_90 = []\n",
    "    age_100 = []\n",
    "\n",
    "    for age in ages:\n",
    "        if str(age)[0] == '1' and len(str(age)) == 2:\n",
    "            age_10.append(age)\n",
    "            \n",
    "        elif str(age)[0] == '2':\n",
    "            age_20.append(age)\n",
    "            \n",
    "        elif str(age)[0] == '3':\n",
    "            age_30.append(age)\n",
    "        \n",
    "        elif str(age)[0] == '4':\n",
    "            age_40.append(age)\n",
    "        \n",
    "        elif str(age)[0] == '5':\n",
    "            age_50.append(age)\n",
    "            \n",
    "        elif str(age)[0] == '6':\n",
    "            age_60.append(age)\n",
    "            \n",
    "        elif str(age)[0] == '7':\n",
    "            age_70.append(age)\n",
    "            \n",
    "        elif str(age)[0] == '8':\n",
    "            age_80.append(age)\n",
    "            \n",
    "        elif str(age)[0] == '9':\n",
    "            age_90.append(age)\n",
    "            \n",
    "        elif len(str(age)) == 3:\n",
    "            age_100.append(age)\n",
    "            \n",
    "    profile_ages = {'10대' : len(age_10), '20대' : len(age_20), '30대' : len(age_30), '40대' : len(age_40), '50대' : len(age_50), '60대' : len(age_60), '70대' : len(age_70), '80대' : len(age_80), '90대' : len(age_90), '100대' : len((age_100))}       \n",
    "\n",
    "    return profile_ages"
   ]
  },
  {
   "cell_type": "code",
   "execution_count": 19,
   "id": "8dfab316",
   "metadata": {},
   "outputs": [
    {
     "data": {
      "text/plain": [
       "{'10대': 160,\n",
       " '20대': 960,\n",
       " '30대': 1008,\n",
       " '40대': 1434,\n",
       " '50대': 1925,\n",
       " '60대': 1602,\n",
       " '70대': 925,\n",
       " '80대': 371,\n",
       " '90대': 97,\n",
       " '100대': 2}"
      ]
     },
     "execution_count": 19,
     "metadata": {},
     "output_type": "execute_result"
    }
   ],
   "source": [
    "profile_ages_m = ages_suction(profile_age_m)\n",
    "profile_ages_m"
   ]
  },
  {
   "cell_type": "markdown",
   "id": "bf5f1381",
   "metadata": {},
   "source": [
    "### Series 생성 및 활용법\n",
    "- list를 series로 생성하기 : pd.Series(list, index = [리스트 길이에 맞게 해당 이름 설정])\n",
    "\n",
    "- dit을 series로 생성하기 : pd.Series(dit, index의 경우 키 값에 미리 설정을 해뒀다면, 따로 하지 않아도 된다.)\n",
    "\n",
    "- Series.values를 하면 series의 변수들을 알 수 있다.\n",
    "\n",
    "- Series.index를 하면 series의 인덱스 값을 알 수 있다.\n",
    "\n"
   ]
  },
  {
   "cell_type": "code",
   "execution_count": 20,
   "id": "0d114361",
   "metadata": {},
   "outputs": [
    {
     "data": {
      "text/plain": [
       "10대      160\n",
       "20대      960\n",
       "30대     1008\n",
       "40대     1434\n",
       "50대     1925\n",
       "60대     1602\n",
       "70대      925\n",
       "80대      371\n",
       "90대       97\n",
       "100대       2\n",
       "dtype: int64"
      ]
     },
     "execution_count": 20,
     "metadata": {},
     "output_type": "execute_result"
    }
   ],
   "source": [
    "profile_ages_M = pd.Series(profile_ages_m)\n",
    "profile_ages_M"
   ]
  },
  {
   "cell_type": "code",
   "execution_count": 21,
   "id": "6eabdf74",
   "metadata": {},
   "outputs": [],
   "source": [
    "profile_ages_f = ages_suction(profile_age_f)\n",
    "profile_ages_F = pd.Series(profile_ages_f)"
   ]
  },
  {
   "cell_type": "markdown",
   "id": "6f2684a9",
   "metadata": {},
   "source": [
    "* 수입을 통해서 알 수 있는 것은 무엇일까?\n",
    "\n",
    "* 또한 하나의 칼럼은 쉽게 다룰 수 있지만, 두 개 이상의 칼럼 관계를 파악하는 것이 부족하다.\n",
    "\n",
    "* 분석에서 가장 중요한 것은 변수들의 조합이나, 예상 밖의 변수에서 인사이트를 발견하는 것이 중요하다.\n",
    "\n",
    "* 변수 조합에 대해서는 **merge**에 대해서 한 번 알아보기"
   ]
  },
  {
   "cell_type": "code",
   "execution_count": 22,
   "id": "62326ed5",
   "metadata": {},
   "outputs": [],
   "source": [
    "profile = profile.reset_index(drop = True)"
   ]
  },
  {
   "cell_type": "code",
   "execution_count": 23,
   "id": "fc33b4d7",
   "metadata": {},
   "outputs": [],
   "source": [
    "# 년도 및 월별로 나눠보기\n",
    "# 여기서도 나눌 수 있는 기준이 다양하게 있음\n",
    "# pd.to_datetime()을 통해서 타입을 date로 바꾸고, 년월일 사이에 '-'을 넣어줄 수 있음\n",
    "\n",
    "from datetime import date\n",
    "\n",
    "profile['가입일'] = pd.to_datetime(profile['가입일'], format = '%Y%m%d')\n"
   ]
  },
  {
   "cell_type": "code",
   "execution_count": 24,
   "id": "a45a22fc",
   "metadata": {},
   "outputs": [
    {
     "data": {
      "text/html": [
       "<div>\n",
       "<style scoped>\n",
       "    .dataframe tbody tr th:only-of-type {\n",
       "        vertical-align: middle;\n",
       "    }\n",
       "\n",
       "    .dataframe tbody tr th {\n",
       "        vertical-align: top;\n",
       "    }\n",
       "\n",
       "    .dataframe thead th {\n",
       "        text-align: right;\n",
       "    }\n",
       "</style>\n",
       "<table border=\"1\" class=\"dataframe\">\n",
       "  <thead>\n",
       "    <tr style=\"text-align: right;\">\n",
       "      <th></th>\n",
       "      <th>성별</th>\n",
       "      <th>나이</th>\n",
       "      <th>가입일</th>\n",
       "      <th>수입</th>\n",
       "    </tr>\n",
       "  </thead>\n",
       "  <tbody>\n",
       "    <tr>\n",
       "      <th>0</th>\n",
       "      <td>F</td>\n",
       "      <td>55</td>\n",
       "      <td>2017-07-15</td>\n",
       "      <td>112000.0</td>\n",
       "    </tr>\n",
       "    <tr>\n",
       "      <th>1</th>\n",
       "      <td>F</td>\n",
       "      <td>75</td>\n",
       "      <td>2017-05-09</td>\n",
       "      <td>100000.0</td>\n",
       "    </tr>\n",
       "    <tr>\n",
       "      <th>2</th>\n",
       "      <td>M</td>\n",
       "      <td>68</td>\n",
       "      <td>2018-04-26</td>\n",
       "      <td>70000.0</td>\n",
       "    </tr>\n",
       "    <tr>\n",
       "      <th>3</th>\n",
       "      <td>M</td>\n",
       "      <td>65</td>\n",
       "      <td>2018-02-09</td>\n",
       "      <td>53000.0</td>\n",
       "    </tr>\n",
       "    <tr>\n",
       "      <th>4</th>\n",
       "      <td>M</td>\n",
       "      <td>58</td>\n",
       "      <td>2017-11-11</td>\n",
       "      <td>51000.0</td>\n",
       "    </tr>\n",
       "    <tr>\n",
       "      <th>...</th>\n",
       "      <td>...</td>\n",
       "      <td>...</td>\n",
       "      <td>...</td>\n",
       "      <td>...</td>\n",
       "    </tr>\n",
       "    <tr>\n",
       "      <th>14820</th>\n",
       "      <td>F</td>\n",
       "      <td>45</td>\n",
       "      <td>2018-06-04</td>\n",
       "      <td>54000.0</td>\n",
       "    </tr>\n",
       "    <tr>\n",
       "      <th>14821</th>\n",
       "      <td>M</td>\n",
       "      <td>61</td>\n",
       "      <td>2018-07-13</td>\n",
       "      <td>72000.0</td>\n",
       "    </tr>\n",
       "    <tr>\n",
       "      <th>14822</th>\n",
       "      <td>M</td>\n",
       "      <td>49</td>\n",
       "      <td>2017-01-26</td>\n",
       "      <td>73000.0</td>\n",
       "    </tr>\n",
       "    <tr>\n",
       "      <th>14823</th>\n",
       "      <td>F</td>\n",
       "      <td>83</td>\n",
       "      <td>2016-03-07</td>\n",
       "      <td>50000.0</td>\n",
       "    </tr>\n",
       "    <tr>\n",
       "      <th>14824</th>\n",
       "      <td>F</td>\n",
       "      <td>62</td>\n",
       "      <td>2017-07-22</td>\n",
       "      <td>82000.0</td>\n",
       "    </tr>\n",
       "  </tbody>\n",
       "</table>\n",
       "<p>14825 rows × 4 columns</p>\n",
       "</div>"
      ],
      "text/plain": [
       "      성별  나이        가입일        수입\n",
       "0      F  55 2017-07-15  112000.0\n",
       "1      F  75 2017-05-09  100000.0\n",
       "2      M  68 2018-04-26   70000.0\n",
       "3      M  65 2018-02-09   53000.0\n",
       "4      M  58 2017-11-11   51000.0\n",
       "...   ..  ..        ...       ...\n",
       "14820  F  45 2018-06-04   54000.0\n",
       "14821  M  61 2018-07-13   72000.0\n",
       "14822  M  49 2017-01-26   73000.0\n",
       "14823  F  83 2016-03-07   50000.0\n",
       "14824  F  62 2017-07-22   82000.0\n",
       "\n",
       "[14825 rows x 4 columns]"
      ]
     },
     "execution_count": 24,
     "metadata": {},
     "output_type": "execute_result"
    }
   ],
   "source": [
    "profile"
   ]
  },
  {
   "cell_type": "code",
   "execution_count": 25,
   "id": "becaa4b6",
   "metadata": {},
   "outputs": [],
   "source": [
    "def get_become_years(date):\n",
    "    return datetime(date.year, 1, 1)\n",
    "\n",
    "# apply 함수에 대한 이해가 필요하다.\n",
    "# apply 속에 들어 있는 함수 값을 apply 앞에 붙어있는 해당 값에 적용시키는 것\n",
    "profile['가입년도'] = profile['가입일'].apply(get_become_years)"
   ]
  },
  {
   "cell_type": "code",
   "execution_count": 26,
   "id": "de4d2c59",
   "metadata": {},
   "outputs": [],
   "source": [
    "def get_become_months(date):\n",
    "    return datetime(1, date.month, 1)\n",
    "\n",
    "profile['가입월'] = profile['가입일'].apply(get_become_months)"
   ]
  },
  {
   "cell_type": "code",
   "execution_count": 27,
   "id": "20bbe721",
   "metadata": {},
   "outputs": [],
   "source": [
    "def get_become_year(date):\n",
    "    return str(date.year) + '년'\n",
    "\n",
    "profile['가입년도'] = profile['가입년도'].apply(get_become_year)"
   ]
  },
  {
   "cell_type": "code",
   "execution_count": 28,
   "id": "2a063fed",
   "metadata": {},
   "outputs": [],
   "source": [
    "def get_become_month(date):\n",
    "    return str(date.month) + '월'\n",
    "\n",
    "profile['가입월'] = profile['가입월'].apply(get_become_month)"
   ]
  },
  {
   "cell_type": "code",
   "execution_count": 29,
   "id": "873877fa",
   "metadata": {},
   "outputs": [],
   "source": [
    "profile = profile.drop('가입일', axis = 1)"
   ]
  },
  {
   "cell_type": "code",
   "execution_count": 30,
   "id": "3940a215",
   "metadata": {},
   "outputs": [
    {
     "data": {
      "text/html": [
       "<div>\n",
       "<style scoped>\n",
       "    .dataframe tbody tr th:only-of-type {\n",
       "        vertical-align: middle;\n",
       "    }\n",
       "\n",
       "    .dataframe tbody tr th {\n",
       "        vertical-align: top;\n",
       "    }\n",
       "\n",
       "    .dataframe thead th {\n",
       "        text-align: right;\n",
       "    }\n",
       "</style>\n",
       "<table border=\"1\" class=\"dataframe\">\n",
       "  <thead>\n",
       "    <tr style=\"text-align: right;\">\n",
       "      <th></th>\n",
       "      <th>성별</th>\n",
       "      <th>나이</th>\n",
       "      <th>수입</th>\n",
       "      <th>가입년도</th>\n",
       "      <th>가입월</th>\n",
       "    </tr>\n",
       "  </thead>\n",
       "  <tbody>\n",
       "    <tr>\n",
       "      <th>0</th>\n",
       "      <td>F</td>\n",
       "      <td>55</td>\n",
       "      <td>112000.0</td>\n",
       "      <td>2017년</td>\n",
       "      <td>7월</td>\n",
       "    </tr>\n",
       "    <tr>\n",
       "      <th>1</th>\n",
       "      <td>F</td>\n",
       "      <td>75</td>\n",
       "      <td>100000.0</td>\n",
       "      <td>2017년</td>\n",
       "      <td>5월</td>\n",
       "    </tr>\n",
       "    <tr>\n",
       "      <th>2</th>\n",
       "      <td>M</td>\n",
       "      <td>68</td>\n",
       "      <td>70000.0</td>\n",
       "      <td>2018년</td>\n",
       "      <td>4월</td>\n",
       "    </tr>\n",
       "    <tr>\n",
       "      <th>3</th>\n",
       "      <td>M</td>\n",
       "      <td>65</td>\n",
       "      <td>53000.0</td>\n",
       "      <td>2018년</td>\n",
       "      <td>2월</td>\n",
       "    </tr>\n",
       "    <tr>\n",
       "      <th>4</th>\n",
       "      <td>M</td>\n",
       "      <td>58</td>\n",
       "      <td>51000.0</td>\n",
       "      <td>2017년</td>\n",
       "      <td>11월</td>\n",
       "    </tr>\n",
       "    <tr>\n",
       "      <th>...</th>\n",
       "      <td>...</td>\n",
       "      <td>...</td>\n",
       "      <td>...</td>\n",
       "      <td>...</td>\n",
       "      <td>...</td>\n",
       "    </tr>\n",
       "    <tr>\n",
       "      <th>14820</th>\n",
       "      <td>F</td>\n",
       "      <td>45</td>\n",
       "      <td>54000.0</td>\n",
       "      <td>2018년</td>\n",
       "      <td>6월</td>\n",
       "    </tr>\n",
       "    <tr>\n",
       "      <th>14821</th>\n",
       "      <td>M</td>\n",
       "      <td>61</td>\n",
       "      <td>72000.0</td>\n",
       "      <td>2018년</td>\n",
       "      <td>7월</td>\n",
       "    </tr>\n",
       "    <tr>\n",
       "      <th>14822</th>\n",
       "      <td>M</td>\n",
       "      <td>49</td>\n",
       "      <td>73000.0</td>\n",
       "      <td>2017년</td>\n",
       "      <td>1월</td>\n",
       "    </tr>\n",
       "    <tr>\n",
       "      <th>14823</th>\n",
       "      <td>F</td>\n",
       "      <td>83</td>\n",
       "      <td>50000.0</td>\n",
       "      <td>2016년</td>\n",
       "      <td>3월</td>\n",
       "    </tr>\n",
       "    <tr>\n",
       "      <th>14824</th>\n",
       "      <td>F</td>\n",
       "      <td>62</td>\n",
       "      <td>82000.0</td>\n",
       "      <td>2017년</td>\n",
       "      <td>7월</td>\n",
       "    </tr>\n",
       "  </tbody>\n",
       "</table>\n",
       "<p>14825 rows × 5 columns</p>\n",
       "</div>"
      ],
      "text/plain": [
       "      성별  나이        수입   가입년도  가입월\n",
       "0      F  55  112000.0  2017년   7월\n",
       "1      F  75  100000.0  2017년   5월\n",
       "2      M  68   70000.0  2018년   4월\n",
       "3      M  65   53000.0  2018년   2월\n",
       "4      M  58   51000.0  2017년  11월\n",
       "...   ..  ..       ...    ...  ...\n",
       "14820  F  45   54000.0  2018년   6월\n",
       "14821  M  61   72000.0  2018년   7월\n",
       "14822  M  49   73000.0  2017년   1월\n",
       "14823  F  83   50000.0  2016년   3월\n",
       "14824  F  62   82000.0  2017년   7월\n",
       "\n",
       "[14825 rows x 5 columns]"
      ]
     },
     "execution_count": 30,
     "metadata": {},
     "output_type": "execute_result"
    }
   ],
   "source": [
    "profile"
   ]
  },
  {
   "cell_type": "code",
   "execution_count": 31,
   "id": "330afddc",
   "metadata": {},
   "outputs": [],
   "source": [
    "# 전체 성별을 기준으로 가입년도와 가입월을 count\n",
    "profile_years = profile.groupby('가입년도').count()['성별']\n",
    "profile_months = profile.groupby('가입월').count()['성별']"
   ]
  },
  {
   "cell_type": "code",
   "execution_count": 32,
   "id": "793ca9c9",
   "metadata": {},
   "outputs": [
    {
     "name": "stdout",
     "output_type": "stream",
     "text": [
      "<class 'pandas.core.frame.DataFrame'>\n",
      "RangeIndex: 306534 entries, 0 to 306533\n",
      "Data columns (total 2 columns):\n",
      " #   Column  Non-Null Count   Dtype \n",
      "---  ------  --------------   ----- \n",
      " 0   event   306534 non-null  object\n",
      " 1   time    306534 non-null  int64 \n",
      "dtypes: int64(1), object(1)\n",
      "memory usage: 4.7+ MB\n"
     ]
    }
   ],
   "source": [
    "# offer received - 제안 받았다.\n",
    "# offer viewed - 조회된 제안\n",
    "# transaction - 거래\n",
    "# offer completed - 제안 완료\n",
    "\n",
    "transcript.info()"
   ]
  },
  {
   "cell_type": "code",
   "execution_count": 33,
   "id": "d2002a78",
   "metadata": {},
   "outputs": [
    {
     "data": {
      "text/plain": [
       "transaction        138953\n",
       "offer received      76277\n",
       "offer viewed        57725\n",
       "offer completed     33579\n",
       "Name: event, dtype: int64"
      ]
     },
     "execution_count": 33,
     "metadata": {},
     "output_type": "execute_result"
    }
   ],
   "source": [
    "transcript['event'].value_counts()"
   ]
  },
  {
   "cell_type": "code",
   "execution_count": 34,
   "id": "07d10974",
   "metadata": {},
   "outputs": [
    {
     "data": {
      "text/plain": [
       "array(['bogo', 'informational', 'discount'], dtype=object)"
      ]
     },
     "execution_count": 34,
     "metadata": {},
     "output_type": "execute_result"
    }
   ],
   "source": [
    "# bogo - by one get one 하나를 사면 하나를 더 준다는 의미로 사용 Ex) 스타벅스 bogo 쿠폰\n",
    "# informational - 정보제공\n",
    "# discount - 할인\n",
    "\n",
    "portfolio['제안유형'].unique()"
   ]
  },
  {
   "cell_type": "code",
   "execution_count": 35,
   "id": "50bef20f",
   "metadata": {},
   "outputs": [
    {
     "data": {
      "text/html": [
       "<div>\n",
       "<style scoped>\n",
       "    .dataframe tbody tr th:only-of-type {\n",
       "        vertical-align: middle;\n",
       "    }\n",
       "\n",
       "    .dataframe tbody tr th {\n",
       "        vertical-align: top;\n",
       "    }\n",
       "\n",
       "    .dataframe thead th {\n",
       "        text-align: right;\n",
       "    }\n",
       "</style>\n",
       "<table border=\"1\" class=\"dataframe\">\n",
       "  <thead>\n",
       "    <tr style=\"text-align: right;\">\n",
       "      <th></th>\n",
       "      <th>보상</th>\n",
       "      <th>채널</th>\n",
       "      <th>어려움</th>\n",
       "      <th>지속</th>\n",
       "      <th>제안유형</th>\n",
       "    </tr>\n",
       "  </thead>\n",
       "  <tbody>\n",
       "    <tr>\n",
       "      <th>0</th>\n",
       "      <td>10</td>\n",
       "      <td>['email', 'mobile', 'social']</td>\n",
       "      <td>10</td>\n",
       "      <td>7</td>\n",
       "      <td>bogo</td>\n",
       "    </tr>\n",
       "    <tr>\n",
       "      <th>1</th>\n",
       "      <td>10</td>\n",
       "      <td>['web', 'email', 'mobile', 'social']</td>\n",
       "      <td>10</td>\n",
       "      <td>5</td>\n",
       "      <td>bogo</td>\n",
       "    </tr>\n",
       "    <tr>\n",
       "      <th>2</th>\n",
       "      <td>0</td>\n",
       "      <td>['web', 'email', 'mobile']</td>\n",
       "      <td>0</td>\n",
       "      <td>4</td>\n",
       "      <td>informational</td>\n",
       "    </tr>\n",
       "    <tr>\n",
       "      <th>3</th>\n",
       "      <td>5</td>\n",
       "      <td>['web', 'email', 'mobile']</td>\n",
       "      <td>5</td>\n",
       "      <td>7</td>\n",
       "      <td>bogo</td>\n",
       "    </tr>\n",
       "    <tr>\n",
       "      <th>4</th>\n",
       "      <td>5</td>\n",
       "      <td>['web', 'email']</td>\n",
       "      <td>20</td>\n",
       "      <td>10</td>\n",
       "      <td>discount</td>\n",
       "    </tr>\n",
       "    <tr>\n",
       "      <th>5</th>\n",
       "      <td>3</td>\n",
       "      <td>['web', 'email', 'mobile', 'social']</td>\n",
       "      <td>7</td>\n",
       "      <td>7</td>\n",
       "      <td>discount</td>\n",
       "    </tr>\n",
       "    <tr>\n",
       "      <th>6</th>\n",
       "      <td>2</td>\n",
       "      <td>['web', 'email', 'mobile', 'social']</td>\n",
       "      <td>10</td>\n",
       "      <td>10</td>\n",
       "      <td>discount</td>\n",
       "    </tr>\n",
       "    <tr>\n",
       "      <th>7</th>\n",
       "      <td>0</td>\n",
       "      <td>['email', 'mobile', 'social']</td>\n",
       "      <td>0</td>\n",
       "      <td>3</td>\n",
       "      <td>informational</td>\n",
       "    </tr>\n",
       "    <tr>\n",
       "      <th>8</th>\n",
       "      <td>5</td>\n",
       "      <td>['web', 'email', 'mobile', 'social']</td>\n",
       "      <td>5</td>\n",
       "      <td>5</td>\n",
       "      <td>bogo</td>\n",
       "    </tr>\n",
       "    <tr>\n",
       "      <th>9</th>\n",
       "      <td>2</td>\n",
       "      <td>['web', 'email', 'mobile']</td>\n",
       "      <td>10</td>\n",
       "      <td>7</td>\n",
       "      <td>discount</td>\n",
       "    </tr>\n",
       "  </tbody>\n",
       "</table>\n",
       "</div>"
      ],
      "text/plain": [
       "   보상                                    채널  어려움  지속           제안유형\n",
       "0  10         ['email', 'mobile', 'social']   10   7           bogo\n",
       "1  10  ['web', 'email', 'mobile', 'social']   10   5           bogo\n",
       "2   0            ['web', 'email', 'mobile']    0   4  informational\n",
       "3   5            ['web', 'email', 'mobile']    5   7           bogo\n",
       "4   5                      ['web', 'email']   20  10       discount\n",
       "5   3  ['web', 'email', 'mobile', 'social']    7   7       discount\n",
       "6   2  ['web', 'email', 'mobile', 'social']   10  10       discount\n",
       "7   0         ['email', 'mobile', 'social']    0   3  informational\n",
       "8   5  ['web', 'email', 'mobile', 'social']    5   5           bogo\n",
       "9   2            ['web', 'email', 'mobile']   10   7       discount"
      ]
     },
     "execution_count": 35,
     "metadata": {},
     "output_type": "execute_result"
    }
   ],
   "source": [
    "# 데이터가 작기 때문에 육안으로 쉽게 판단을 내릴 수 있다.\n",
    "# 시각화를 하거나 이럴 필요는 없을 것 같다.\n",
    "# 채널을 기준으로 각 변수들의 대입해보기\n",
    "# 제안유형에 따른 어려움, 지속, 보상에 대해서 보기\n",
    "# 더 생각나면 추가해서 해석해보기\n",
    "\n",
    "portfolio"
   ]
  },
  {
   "cell_type": "code",
   "execution_count": 36,
   "id": "4e8166cc",
   "metadata": {},
   "outputs": [],
   "source": [
    "# 연령대별로 분리하기\n",
    "# Serise라면 for을 통해서 값을 list에 추가할 수 있다.\n",
    "# 목적은 각 연령대별로 어느 연령대가 많이 참여했는지 확인하기 위함\n",
    "\n",
    "def age_suction(ages):\n",
    "    ages_list = []\n",
    "    \n",
    "    for age in ages:\n",
    "        if str(age)[0] == '1' and len(str(age)) == 2:\n",
    "            ages_list.append('10대')\n",
    "            \n",
    "        elif str(age)[0] == '2':\n",
    "            ages_list.append('20대')\n",
    "            \n",
    "        elif str(age)[0] == '3':\n",
    "            ages_list.append('30대')\n",
    "        \n",
    "        elif str(age)[0] == '4':\n",
    "            ages_list.append('40대')\n",
    "        \n",
    "        elif str(age)[0] == '5':\n",
    "            ages_list.append('50대')\n",
    "            \n",
    "        elif str(age)[0] == '6':\n",
    "            ages_list.append('60대')\n",
    "            \n",
    "        elif str(age)[0] == '7':\n",
    "            ages_list.append('70대')\n",
    "            \n",
    "        elif str(age)[0] == '8':\n",
    "            ages_list.append('80대')\n",
    "            \n",
    "        elif str(age)[0] == '9':\n",
    "            ages_list.append('90대')\n",
    "            \n",
    "        elif len(str(age)) == 3:\n",
    "            ages_list.append('100대')\n",
    "    \n",
    "    return ages_list"
   ]
  },
  {
   "cell_type": "code",
   "execution_count": 37,
   "id": "80067e23",
   "metadata": {},
   "outputs": [],
   "source": [
    "# profile 데이터프레임에 연령대라는 새로운 칼럼을 추가한다.\n",
    "profile['연령대'] = age_suction(profile['나이'])"
   ]
  },
  {
   "cell_type": "markdown",
   "id": "20304003",
   "metadata": {},
   "source": [
    "##### 10대 20대 30대 ~ 100대로 변형시키는 함수를 생성하고 전체 값을 apply값을 적용시켜 해당 칼럼 전체 값을 바꾼다면\n",
    "> 공통된 값이 생기는 것이니깐 이것을 통해서 수익의 평균을 낼 수 있지 않을까?\n"
   ]
  },
  {
   "cell_type": "code",
   "execution_count": 38,
   "id": "4a186001",
   "metadata": {},
   "outputs": [],
   "source": [
    "profile_age_income= round(profile.groupby('연령대').mean()['수입'], 0)"
   ]
  },
  {
   "cell_type": "code",
   "execution_count": 39,
   "id": "cb2eef28",
   "metadata": {},
   "outputs": [],
   "source": [
    "# 한글 폰트 사용하기\n",
    "\n",
    "from matplotlib import font_manager, rc\n",
    "import platform\n",
    "\n",
    "if platform.system() == 'Darwin':\n",
    "    rc('font', family = 'AppleGothic')\n",
    "else:\n",
    "    print('Check your OS system')"
   ]
  },
  {
   "cell_type": "code",
   "execution_count": 40,
   "id": "2912006f",
   "metadata": {},
   "outputs": [
    {
     "data": {
      "text/plain": [
       "<AxesSubplot:ylabel='성별'>"
      ]
     },
     "execution_count": 40,
     "metadata": {},
     "output_type": "execute_result"
    },
    {
     "data": {
      "image/png": "[encoded data removed]",
      "text/plain": [
       "<Figure size 576x432 with 1 Axes>"
      ]
     },
     "metadata": {},
     "output_type": "display_data"
    }
   ],
   "source": [
    "profile_genders = profile['성별'].value_counts()\n",
    "profile_genders.plot.pie(figsize = (8, 6), autopct = '%.2f%%')"
   ]
  },
  {
   "cell_type": "code",
   "execution_count": 41,
   "id": "424e5632",
   "metadata": {},
   "outputs": [
    {
     "data": {
      "text/plain": [
       "<seaborn.axisgrid.FacetGrid at 0x7fbd900a9340>"
      ]
     },
     "execution_count": 41,
     "metadata": {},
     "output_type": "execute_result"
    },
    {
     "data": {
      "image/png": "[encoded data removed]",
      "text/plain": [
       "<Figure size 1080x360 with 3 Axes>"
      ]
     },
     "metadata": {
      "needs_background": "light"
     },
     "output_type": "display_data"
    }
   ],
   "source": [
    "sns.displot(data = profile, x = profile['연령대'], col = '성별')"
   ]
  },
  {
   "cell_type": "code",
   "execution_count": 42,
   "id": "78844271",
   "metadata": {},
   "outputs": [
    {
     "data": {
      "text/plain": [
       "(array([0, 1, 2, 3, 4, 5, 6, 7, 8, 9]),\n",
       " [Text(0, 0, '10대'),\n",
       "  Text(1, 0, '20대'),\n",
       "  Text(2, 0, '30대'),\n",
       "  Text(3, 0, '40대'),\n",
       "  Text(4, 0, '50대'),\n",
       "  Text(5, 0, '60대'),\n",
       "  Text(6, 0, '70대'),\n",
       "  Text(7, 0, '80대'),\n",
       "  Text(8, 0, '90대'),\n",
       "  Text(9, 0, '100대')])"
      ]
     },
     "execution_count": 42,
     "metadata": {},
     "output_type": "execute_result"
    },
    {
     "data": {
      "image/png": "[encoded data removed]",
      "text/plain": [
       "<Figure size 576x432 with 1 Axes>"
      ]
     },
     "metadata": {
      "needs_background": "light"
     },
     "output_type": "display_data"
    }
   ],
   "source": [
    "profile_ages_M.plot.bar(figsize = (8,6))\n",
    "plt.title('남성_연령대')\n",
    "plt.xlabel('연령대')\n",
    "plt.ylabel('참여수')\n",
    "plt.xticks(rotation = 45)"
   ]
  },
  {
   "cell_type": "code",
   "execution_count": 43,
   "id": "76f5b714",
   "metadata": {},
   "outputs": [
    {
     "data": {
      "text/plain": [
       "(array([0, 1, 2, 3, 4, 5, 6, 7, 8, 9]),\n",
       " [Text(0, 0, '10대'),\n",
       "  Text(1, 0, '20대'),\n",
       "  Text(2, 0, '30대'),\n",
       "  Text(3, 0, '40대'),\n",
       "  Text(4, 0, '50대'),\n",
       "  Text(5, 0, '60대'),\n",
       "  Text(6, 0, '70대'),\n",
       "  Text(7, 0, '80대'),\n",
       "  Text(8, 0, '90대'),\n",
       "  Text(9, 0, '100대')])"
      ]
     },
     "execution_count": 43,
     "metadata": {},
     "output_type": "execute_result"
    },
    {
     "data": {
      "image/png": "[encoded data removed]",
      "text/plain": [
       "<Figure size 576x432 with 1 Axes>"
      ]
     },
     "metadata": {
      "needs_background": "light"
     },
     "output_type": "display_data"
    }
   ],
   "source": [
    "profile_ages_F.plot.bar(figsize = (8, 6))\n",
    "plt.title('여성_연령대')\n",
    "plt.xlabel('연령대')\n",
    "plt.ylabel('참여수')\n",
    "plt.xticks(rotation = 45)\n"
   ]
  },
  {
   "cell_type": "code",
   "execution_count": 44,
   "id": "5b56e66a",
   "metadata": {},
   "outputs": [
    {
     "data": {
      "text/plain": [
       "Text(0, 0.5, '가입수')"
      ]
     },
     "execution_count": 44,
     "metadata": {},
     "output_type": "execute_result"
    },
    {
     "data": {
      "image/png": "[encoded data removed]",
      "text/plain": [
       "<Figure size 576x432 with 1 Axes>"
      ]
     },
     "metadata": {
      "needs_background": "light"
     },
     "output_type": "display_data"
    }
   ],
   "source": [
    "profile_years.plot.line(figsize = (8, 6))\n",
    "plt.title('스타벅스 가입년도')\n",
    "plt.ylabel('가입수')\n"
   ]
  },
  {
   "cell_type": "code",
   "execution_count": 45,
   "id": "5a23a33f",
   "metadata": {},
   "outputs": [],
   "source": [
    "profile_age_income = profile.groupby('연령대').mean()['수입']"
   ]
  },
  {
   "cell_type": "code",
   "execution_count": 46,
   "id": "b6df0bcc",
   "metadata": {},
   "outputs": [
    {
     "data": {
      "text/plain": [
       "Text(0, 0.5, '수입')"
      ]
     },
     "execution_count": 46,
     "metadata": {},
     "output_type": "execute_result"
    },
    {
     "data": {
      "image/png": "[encoded data removed]",
      "text/plain": [
       "<Figure size 576x432 with 1 Axes>"
      ]
     },
     "metadata": {
      "needs_background": "light"
     },
     "output_type": "display_data"
    }
   ],
   "source": [
    "profile_age_income.plot.bar(figsize = (8, 6))\n",
    "plt.title('연령대에 따른 수입')\n",
    "plt.xticks(rotation = 45)\n",
    "plt.ylabel('수입')"
   ]
  },
  {
   "cell_type": "markdown",
   "id": "0809b7eb",
   "metadata": {},
   "source": [
    "### *profile 시각화로 인해서 생각해볼 수 있는 경우는?*\n",
    "> 수입과 참여수는 상관관계가 있을까?\n",
    "\n",
    "> 연령대 별 참여수의 차이는 어디서 발생하는 것일까?\n",
    "\n",
    "> 2016년에서 2017년에 가입자 수가 증가하는데, 이런 이유는 무엇일까?\n",
    "\n",
    "> 반면, 2017년에서 2018년에는 가입자 수가 하락하는데, 이런 이유는 무엇일까?\n",
    "\n",
    ">"
   ]
  },
  {
   "cell_type": "code",
   "execution_count": 47,
   "id": "2f9e835e",
   "metadata": {},
   "outputs": [
    {
     "data": {
      "text/plain": [
       "<AxesSubplot:ylabel='event'>"
      ]
     },
     "execution_count": 47,
     "metadata": {},
     "output_type": "execute_result"
    },
    {
     "data": {
      "image/png": "[encoded data removed]",
      "text/plain": [
       "<Figure size 576x432 with 1 Axes>"
      ]
     },
     "metadata": {},
     "output_type": "display_data"
    }
   ],
   "source": [
    "transcript['event'].value_counts().plot.pie(figsize = (8,6), autopct = '%.2f%%')"
   ]
  },
  {
   "cell_type": "code",
   "execution_count": 48,
   "id": "d382fa07",
   "metadata": {},
   "outputs": [
    {
     "data": {
      "text/html": [
       "<div>\n",
       "<style scoped>\n",
       "    .dataframe tbody tr th:only-of-type {\n",
       "        vertical-align: middle;\n",
       "    }\n",
       "\n",
       "    .dataframe tbody tr th {\n",
       "        vertical-align: top;\n",
       "    }\n",
       "\n",
       "    .dataframe thead th {\n",
       "        text-align: right;\n",
       "    }\n",
       "</style>\n",
       "<table border=\"1\" class=\"dataframe\">\n",
       "  <thead>\n",
       "    <tr style=\"text-align: right;\">\n",
       "      <th></th>\n",
       "      <th>보상</th>\n",
       "      <th>채널</th>\n",
       "      <th>어려움</th>\n",
       "      <th>지속</th>\n",
       "      <th>제안유형</th>\n",
       "    </tr>\n",
       "  </thead>\n",
       "  <tbody>\n",
       "    <tr>\n",
       "      <th>0</th>\n",
       "      <td>10</td>\n",
       "      <td>['email', 'mobile', 'social']</td>\n",
       "      <td>10</td>\n",
       "      <td>7</td>\n",
       "      <td>bogo</td>\n",
       "    </tr>\n",
       "    <tr>\n",
       "      <th>1</th>\n",
       "      <td>10</td>\n",
       "      <td>['web', 'email', 'mobile', 'social']</td>\n",
       "      <td>10</td>\n",
       "      <td>5</td>\n",
       "      <td>bogo</td>\n",
       "    </tr>\n",
       "    <tr>\n",
       "      <th>2</th>\n",
       "      <td>0</td>\n",
       "      <td>['web', 'email', 'mobile']</td>\n",
       "      <td>0</td>\n",
       "      <td>4</td>\n",
       "      <td>informational</td>\n",
       "    </tr>\n",
       "    <tr>\n",
       "      <th>3</th>\n",
       "      <td>5</td>\n",
       "      <td>['web', 'email', 'mobile']</td>\n",
       "      <td>5</td>\n",
       "      <td>7</td>\n",
       "      <td>bogo</td>\n",
       "    </tr>\n",
       "    <tr>\n",
       "      <th>4</th>\n",
       "      <td>5</td>\n",
       "      <td>['web', 'email']</td>\n",
       "      <td>20</td>\n",
       "      <td>10</td>\n",
       "      <td>discount</td>\n",
       "    </tr>\n",
       "    <tr>\n",
       "      <th>5</th>\n",
       "      <td>3</td>\n",
       "      <td>['web', 'email', 'mobile', 'social']</td>\n",
       "      <td>7</td>\n",
       "      <td>7</td>\n",
       "      <td>discount</td>\n",
       "    </tr>\n",
       "    <tr>\n",
       "      <th>6</th>\n",
       "      <td>2</td>\n",
       "      <td>['web', 'email', 'mobile', 'social']</td>\n",
       "      <td>10</td>\n",
       "      <td>10</td>\n",
       "      <td>discount</td>\n",
       "    </tr>\n",
       "    <tr>\n",
       "      <th>7</th>\n",
       "      <td>0</td>\n",
       "      <td>['email', 'mobile', 'social']</td>\n",
       "      <td>0</td>\n",
       "      <td>3</td>\n",
       "      <td>informational</td>\n",
       "    </tr>\n",
       "    <tr>\n",
       "      <th>8</th>\n",
       "      <td>5</td>\n",
       "      <td>['web', 'email', 'mobile', 'social']</td>\n",
       "      <td>5</td>\n",
       "      <td>5</td>\n",
       "      <td>bogo</td>\n",
       "    </tr>\n",
       "    <tr>\n",
       "      <th>9</th>\n",
       "      <td>2</td>\n",
       "      <td>['web', 'email', 'mobile']</td>\n",
       "      <td>10</td>\n",
       "      <td>7</td>\n",
       "      <td>discount</td>\n",
       "    </tr>\n",
       "  </tbody>\n",
       "</table>\n",
       "</div>"
      ],
      "text/plain": [
       "   보상                                    채널  어려움  지속           제안유형\n",
       "0  10         ['email', 'mobile', 'social']   10   7           bogo\n",
       "1  10  ['web', 'email', 'mobile', 'social']   10   5           bogo\n",
       "2   0            ['web', 'email', 'mobile']    0   4  informational\n",
       "3   5            ['web', 'email', 'mobile']    5   7           bogo\n",
       "4   5                      ['web', 'email']   20  10       discount\n",
       "5   3  ['web', 'email', 'mobile', 'social']    7   7       discount\n",
       "6   2  ['web', 'email', 'mobile', 'social']   10  10       discount\n",
       "7   0         ['email', 'mobile', 'social']    0   3  informational\n",
       "8   5  ['web', 'email', 'mobile', 'social']    5   5           bogo\n",
       "9   2            ['web', 'email', 'mobile']   10   7       discount"
      ]
     },
     "execution_count": 48,
     "metadata": {},
     "output_type": "execute_result"
    }
   ],
   "source": [
    "portfolio"
   ]
  },
  {
   "cell_type": "code",
   "execution_count": 49,
   "id": "6d6d2e09",
   "metadata": {},
   "outputs": [
    {
     "data": {
      "text/html": [
       "<div>\n",
       "<style scoped>\n",
       "    .dataframe tbody tr th:only-of-type {\n",
       "        vertical-align: middle;\n",
       "    }\n",
       "\n",
       "    .dataframe tbody tr th {\n",
       "        vertical-align: top;\n",
       "    }\n",
       "\n",
       "    .dataframe thead th {\n",
       "        text-align: right;\n",
       "    }\n",
       "</style>\n",
       "<table border=\"1\" class=\"dataframe\">\n",
       "  <thead>\n",
       "    <tr style=\"text-align: right;\">\n",
       "      <th></th>\n",
       "      <th>보상</th>\n",
       "      <th>어려움</th>\n",
       "      <th>지속</th>\n",
       "    </tr>\n",
       "    <tr>\n",
       "      <th>제안유형</th>\n",
       "      <th></th>\n",
       "      <th></th>\n",
       "      <th></th>\n",
       "    </tr>\n",
       "  </thead>\n",
       "  <tbody>\n",
       "    <tr>\n",
       "      <th>bogo</th>\n",
       "      <td>7.5</td>\n",
       "      <td>7.50</td>\n",
       "      <td>6.0</td>\n",
       "    </tr>\n",
       "    <tr>\n",
       "      <th>discount</th>\n",
       "      <td>3.0</td>\n",
       "      <td>11.75</td>\n",
       "      <td>8.5</td>\n",
       "    </tr>\n",
       "    <tr>\n",
       "      <th>informational</th>\n",
       "      <td>0.0</td>\n",
       "      <td>0.00</td>\n",
       "      <td>3.5</td>\n",
       "    </tr>\n",
       "  </tbody>\n",
       "</table>\n",
       "</div>"
      ],
      "text/plain": [
       "                보상    어려움   지속\n",
       "제안유형                          \n",
       "bogo           7.5   7.50  6.0\n",
       "discount       3.0  11.75  8.5\n",
       "informational  0.0   0.00  3.5"
      ]
     },
     "execution_count": 49,
     "metadata": {},
     "output_type": "execute_result"
    }
   ],
   "source": [
    "portfolio.groupby('제안유형').mean()"
   ]
  },
  {
   "cell_type": "markdown",
   "id": "c3d95889",
   "metadata": {},
   "source": [
    "### 함수 만들어서 각 년도별로 가입자 수 판단하기"
   ]
  },
  {
   "cell_type": "code",
   "execution_count": 284,
   "id": "090f67ce",
   "metadata": {},
   "outputs": [
    {
     "data": {
      "text/plain": [
       "([0, 1, 2, 3, 4, 5],\n",
       " [Text(0, 0, ''),\n",
       "  Text(0, 0, ''),\n",
       "  Text(0, 0, ''),\n",
       "  Text(0, 0, ''),\n",
       "  Text(0, 0, ''),\n",
       "  Text(0, 0, '')])"
      ]
     },
     "execution_count": 284,
     "metadata": {},
     "output_type": "execute_result"
    },
    {
     "data": {
      "image/png": "[encoded data removed]",
      "text/plain": [
       "<Figure size 648x504 with 1 Axes>"
      ]
     },
     "metadata": {
      "needs_background": "light"
     },
     "output_type": "display_data"
    }
   ],
   "source": [
    "profile_2013 = profile[profile['가입년도'] == '2013년']['가입월'].value_counts()\n",
    "profile_2013 = profile_2013.loc[['7월', '8월', '9월', '10월', '11월', '12월']]\n",
    "\n",
    "plt.figure(figsize = (9, 7))\n",
    "plt.bar(profile_2013.index, profile_2013.values)\n",
    "plt.ylim([0, 900])\n",
    "plt.title(\"2013년 월별 가입자 수\", fontsize = 20)\n",
    "plt.xlabel(\"월별 가입자 수\", fontsize = 18)\n",
    "plt.xticks(fontsize = 16)"
   ]
  },
  {
   "cell_type": "markdown",
   "id": "7d0350df",
   "metadata": {},
   "source": [
    "### loc 특성\n",
    "* 데이터 프레임에서 loc를 활용하는 방법은 다양하다.\n",
    "1. loc[3]은 데이터 프레임에서 3번째 행의 값을 불러오는 것이고, loc[3, 컬럼명]을 했다면, 3번째 행에 해당하는 컬럼 값만 도출하는 것이다.\n",
    "2. loc[:4, :칼럼명]을 해석하면, 0 ~ 4번째 행 + 첫 번째 칼럼에서 입력한 칼럼명까지 도출하는 것\n",
    "3. loc 값으로 필터링도 가능하다. 예를 들어 df.loc[df['칼럼'] == 3] / df.loc[df['칼럼'] == 3] | df.loc[df['칼럼'] == 5], 기존 필터링 방법과 유사하다."
   ]
  },
  {
   "cell_type": "code",
   "execution_count": 323,
   "id": "6bb5aad6",
   "metadata": {},
   "outputs": [
    {
     "data": {
      "image/png": "[encoded data removed]",
      "text/plain": [
       "<Figure size 2160x2160 with 6 Axes>"
      ]
     },
     "metadata": {
      "needs_background": "light"
     },
     "output_type": "display_data"
    }
   ],
   "source": [
    "# x축 항목 순서 변경하기\n",
    "# 참고: https://rfriend.tistory.com/724\n",
    "# loc의 특성도 파악해야 할 듯\n",
    "# 앞으로 블로그 글 쓸 때 내 글의 주제를 찾는 사람들이 쉽게 접근 할 수 있도록 제목에 대해서도 고민을 하고 작성해야 함.\n",
    "\n",
    "# 원래는 2013년과 2018년 월별의 인덱스 길이가 같지 않아서 따로따로 했지만,\n",
    "# lambda 함수를 활용해서 전부 표현했다. array나, index 값이라도 tolist()를 통해서 타입을 리스트로 변형하고, sort()를 활용해서 해당 값에 맞춰서 표현하니깐 인덱스 길이를 고려할 필요가 없어졌다.\n",
    "\n",
    "profile_years = ['2013년','2014년', '2015년', '2016년', '2017년', '2018년']\n",
    "plt.figure(figsize = (30, 30))\n",
    "\n",
    "\n",
    "for uni_idx in range(len(profile_years)):\n",
    "        plt.subplot(3, 2, uni_idx + 1)\n",
    "        profile_year = profile[profile['가입년도'] == profile_years[uni_idx]]['가입월'].value_counts()\n",
    "        profile_list = profile_year.index.tolist()\n",
    "        profile_list.sort(key = lambda str: int(str[:-1]))\n",
    "        profile_year = profile_year.loc[profile_list]\n",
    "        plt.bar(profile_year.index, profile_year.values)\n",
    "        plt.ylim([0, 900])\n",
    "        plt.title(profile_years[uni_idx] + \" \" + \"월별 가입자 수\", fontsize = 20)\n",
    "        plt.xlabel(\"월별 가입자 수\", fontsize = 18)\n",
    "        plt.xticks(fontsize = 16)\n",
    "    "
   ]
  },
  {
   "cell_type": "code",
   "execution_count": 312,
   "id": "c14aff55",
   "metadata": {},
   "outputs": [
    {
     "name": "stdout",
     "output_type": "stream",
     "text": [
      "['1월', '2월', '3월', '4월', '5월', '6월', '7월', '8월', '9월', '10월', '11월', '12월']\n"
     ]
    }
   ],
   "source": [
    "# m_list = ['7월', '5월', '4월', '2월', '11월', '9월', '12월', '6월', '8월', '1월', '10월', '3월']\n",
    "# m_list.sort(key = lambda str: int(str[:-1]))\n",
    "# print(m_list)"
   ]
  },
  {
   "cell_type": "code",
   "execution_count": 320,
   "id": "17dda7ce",
   "metadata": {},
   "outputs": [
    {
     "data": {
      "text/plain": [
       "list"
      ]
     },
     "execution_count": 320,
     "metadata": {},
     "output_type": "execute_result"
    }
   ],
   "source": [
    "profile_2017 = profile[profile['가입년도'] == '2017년']['가입월'].value_counts()\n",
    "type(profile_2017.index.tolist())\n",
    "\n",
    "# list_2017 = profile_2017.unique().tolist()\n",
    "\n",
    "# list_2017.sort(key = lambda str: int(str[:-1]))\n",
    "\n",
    "# print(list_2017)"
   ]
  },
  {
   "cell_type": "code",
   "execution_count": null,
   "id": "b77ef91d",
   "metadata": {},
   "outputs": [],
   "source": []
  }
 ],
 "metadata": {
  "interpreter": {
   "hash": "6b20d0599a458bb2f3e1284f322557bcbba1c90ee361c2f8e3e9bb4fa323d183"
  },
  "kernelspec": {
   "display_name": "Python 3 (ipykernel)",
   "language": "python",
   "name": "python3"
  },
  "language_info": {
   "codemirror_mode": {
    "name": "ipython",
    "version": 3
   },
   "file_extension": ".py",
   "mimetype": "text/x-python",
   "name": "python",
   "nbconvert_exporter": "python",
   "pygments_lexer": "ipython3",
   "version": "3.9.7"
  }
 },
 "nbformat": 4,
 "nbformat_minor": 5
}
