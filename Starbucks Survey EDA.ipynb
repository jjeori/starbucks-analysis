{
 "cells": [
  {
   "cell_type": "markdown",
   "id": "69f3d0eb",
   "metadata": {},
   "source": [
    "## 스타벅스 이벤트 관련 고객 설문 데이터\n",
    "\n",
    "- 스타벅스 고객들의 이벤트 관련 설문에 응답한 데이터의 일부입니다.\n",
    "\n",
    "\n",
    "- 해당 데이터에서 고객들이 이벤트에 대한 응답을 어떻게 하는지, 찾고 고객 프로모션 개선방안에 대한 인사이트를 찾습니다."
   ]
  },
  {
   "cell_type": "markdown",
   "id": "9d4289b5",
   "metadata": {},
   "source": [
    "### 0. Data Description\n",
    "\n",
    "1. Profile table\n",
    "\n",
    "> profile 데이터는 설문에 참여한 스타벅스 회원에 관련된 정보가 담겨 있습니다.\n",
    "\n",
    "\n",
    "2. transcript\n",
    "\n",
    "> 이벤트에 참여한 실제 유저들의 응답이 기록되어 있습니다.\n",
    "\n",
    "\n",
    "3. portfoilo\n",
    "\n",
    "> 이벤트를 운영했던 내역에 관한 정보가 담겨 있습니다."
   ]
  },
  {
   "cell_type": "markdown",
   "id": "6b80981d",
   "metadata": {},
   "source": [
    "### 1. 라이브러리 및 데이터 로드\n",
    "\n",
    "- 분석에 필요한 데이터와, 라이브러리를 불러옵니다."
   ]
  },
  {
   "cell_type": "code",
   "execution_count": 2,
   "id": "f8ea8518",
   "metadata": {},
   "outputs": [],
   "source": [
    "# 데이터 분석 필수 라이브러리 4종 세트 불러오기\n",
    "import numpy as np\n",
    "import pandas as pd\n",
    "import matplotlib.pyplot as plt\n",
    "import seaborn as sns\n",
    "from datetime import datetime"
   ]
  },
  {
   "cell_type": "code",
   "execution_count": 3,
   "id": "afc0e5c7",
   "metadata": {},
   "outputs": [],
   "source": [
    "# Starbucks Customer Data 폴더안에 있는 데이터 3개를 불러오기\n",
    "transcript = pd.read_csv(\"Desktop/Starbucks Customer Data/transcript.csv\")\n",
    "portfolio = pd.read_csv('Desktop/Starbucks Customer Data/portfolio.csv')\n",
    "profile = pd.read_csv(\"Desktop/Starbucks Customer Data/profile.csv\")"
   ]
  },
  {
   "cell_type": "markdown",
   "id": "22efe632",
   "metadata": {},
   "source": [
    "### 2. 데이터 전처리\n",
    "\n",
    "- 결측치가 존재하는 데이터를 찾아서, 결측치를 처리해줍니다."
   ]
  },
  {
   "cell_type": "code",
   "execution_count": 4,
   "id": "382c0b21",
   "metadata": {},
   "outputs": [
    {
     "data": {
      "text/plain": [
       "Unnamed: 0    0\n",
       "person        0\n",
       "event         0\n",
       "value         0\n",
       "time          0\n",
       "dtype: int64"
      ]
     },
     "execution_count": 4,
     "metadata": {},
     "output_type": "execute_result"
    }
   ],
   "source": [
    "# 1) 각 데이터에 결측치가 있는지 확인합니다.\n",
    "transcript.isnull().sum()"
   ]
  },
  {
   "cell_type": "code",
   "execution_count": 5,
   "id": "3250cc5a",
   "metadata": {},
   "outputs": [
    {
     "data": {
      "text/plain": [
       "Unnamed: 0    0\n",
       "reward        0\n",
       "channels      0\n",
       "difficulty    0\n",
       "duration      0\n",
       "offer_type    0\n",
       "id            0\n",
       "dtype: int64"
      ]
     },
     "execution_count": 5,
     "metadata": {},
     "output_type": "execute_result"
    }
   ],
   "source": [
    "# 2) 각 데이터에 결측치가 있는지 확인합니다.\n",
    "portfolio.isnull().sum()"
   ]
  },
  {
   "cell_type": "code",
   "execution_count": 6,
   "id": "918d8396",
   "metadata": {
    "scrolled": true
   },
   "outputs": [
    {
     "data": {
      "text/plain": [
       "Unnamed: 0             0\n",
       "gender              2175\n",
       "age                    0\n",
       "id                     0\n",
       "became_member_on       0\n",
       "income              2175\n",
       "dtype: int64"
      ]
     },
     "execution_count": 6,
     "metadata": {},
     "output_type": "execute_result"
    }
   ],
   "source": [
    "# 3) 각 데이터에 결측치가 있는지 확인합니다.\n",
    "profile.isnull().sum()"
   ]
  },
  {
   "cell_type": "code",
   "execution_count": 26,
   "id": "7664b050",
   "metadata": {},
   "outputs": [
    {
     "name": "stdout",
     "output_type": "stream",
     "text": [
      "<class 'pandas.core.frame.DataFrame'>\n",
      "Int64Index: 14825 entries, 1 to 16999\n",
      "Data columns (total 8 columns):\n",
      " #   Column            Non-Null Count  Dtype         \n",
      "---  ------            --------------  -----         \n",
      " 0   Unnamed: 0        14825 non-null  int64         \n",
      " 1   gender            14825 non-null  object        \n",
      " 2   age               14825 non-null  int64         \n",
      " 3   id                14825 non-null  object        \n",
      " 4   became_member_on  14825 non-null  datetime64[ns]\n",
      " 5   income            14825 non-null  int32         \n",
      " 6   years             14825 non-null  datetime64[ns]\n",
      " 7   months            14825 non-null  object        \n",
      "dtypes: datetime64[ns](2), int32(1), int64(2), object(3)\n",
      "memory usage: 1.5+ MB\n"
     ]
    }
   ],
   "source": [
    "profile.info()"
   ]
  },
  {
   "cell_type": "code",
   "execution_count": 7,
   "id": "cd0009be",
   "metadata": {},
   "outputs": [],
   "source": [
    "# 결측치를 포함하는 데이터들은 어떤 데이터들인지 확인합니다.\n",
    "# 결측치를 포함하고 있는 데이터는 profile 밖에 없다."
   ]
  },
  {
   "cell_type": "code",
   "execution_count": 8,
   "id": "b8a05474",
   "metadata": {},
   "outputs": [],
   "source": [
    "# 결측치를 처리해줍니다. # 평균과 같은 통계량으로 채워주거나, 버립니다.\n",
    "# profile = profile[pd.notnull(profile['gender'])]\n",
    "# profile = profile[pd.notnull(profile['income'])]\n",
    "profile = profile.dropna()"
   ]
  },
  {
   "cell_type": "markdown",
   "id": "9da024ca",
   "metadata": {},
   "source": [
    "### 3. profile 데이터 분석\n",
    "\n",
    "- 설문에 참여한 사람 중, 정상적인 데이터로 판단된 데이터에 대한 분석을 수행합니다.\n",
    "\n",
    "\n",
    "- 각 column마다 원하는 통계량을 찾은 뒤, 해당 통계량을 멋지게 시각화해 줄 plot을 seaborn에서 가져와 구현합니다."
   ]
  },
  {
   "cell_type": "code",
   "execution_count": 9,
   "id": "76f43910",
   "metadata": {},
   "outputs": [],
   "source": [
    "# profile의 became_member_on 데이터를 시간 정보로 변환해줍니다.\n",
    "profile['became_member_on'] = pd.to_datetime(profile['became_member_on'], format = \"%Y%m%d\")"
   ]
  },
  {
   "cell_type": "markdown",
   "id": "e0c6c46f",
   "metadata": {},
   "source": [
    "#### 성별에 관한 분석\n",
    "> 그래프를 통해서 알 수 있는 것은 \"남성이 설문조사에 가장 많이 참여했다는 것을 알 수 있습니다.\""
   ]
  },
  {
   "cell_type": "code",
   "execution_count": 10,
   "id": "e19e366f",
   "metadata": {},
   "outputs": [
    {
     "data": {
      "text/plain": [
       "Text(0.5, 1.0, 'Profile_genders')"
      ]
     },
     "execution_count": 10,
     "metadata": {},
     "output_type": "execute_result"
    },
    {
     "data": {
      "image/png": "[encoded data removed]",
      "text/plain": [
       "<Figure size 1080x576 with 1 Axes>"
      ]
     },
     "metadata": {
      "needs_background": "light"
     },
     "output_type": "display_data"
    }
   ],
   "source": [
    "profile_genders = profile['gender'].value_counts()\n",
    "\n",
    "profile_genders.plot.barh(figsize = (15, 8))\n",
    "plt.xticks(fontsize = 10)\n",
    "plt.yticks(fontsize = 10)\n",
    "plt.title('Profile_genders', fontsize = 15)"
   ]
  },
  {
   "cell_type": "markdown",
   "id": "877b429c",
   "metadata": {},
   "source": [
    "#### 나이에 대한 분석\n",
    "> '스세권'이라는 말이 있을 정도로 스타벅스를 이용하는 소비자가 많다는 것을 알 수 있습니다. 또한, 국내 스타벅스를 이용하는 주요 고객은 대학생, 직장인입니다. 그럼에도 불구하고 그래프를 통해서 알 수 있는 것은 설문조사에 참여한 세대는 40 ~ 70대가 가장 많습니다.\n",
    "\n",
    "> 이것을 통해서 생각해볼 수 있는 것은 \"스타벅스의 주요 연령층은 확실하게 대학생, 직장인인가?\" 대학생, 직장인이 주요 연령층이라면 설문조사 비중은 왜 이렇게 낮은걸까?\n",
    "\n",
    "> 나이를 성별로도 함께 데이터를 시각화했습니다. 그 결과 젊은 20~30대를 비교해보면 설문조사 참여율은 여성이 남성보다 낮게 나온 것을 알 수 있습니다."
   ]
  },
  {
   "cell_type": "code",
   "execution_count": 11,
   "id": "4bf271ad",
   "metadata": {},
   "outputs": [
    {
     "data": {
      "text/plain": [
       "<AxesSubplot:xlabel='age', ylabel='Count'>"
      ]
     },
     "execution_count": 11,
     "metadata": {},
     "output_type": "execute_result"
    },
    {
     "data": {
      "image/png": "[encoded data removed]",
      "text/plain": [
       "<Figure size 432x288 with 1 Axes>"
      ]
     },
     "metadata": {
      "needs_background": "light"
     },
     "output_type": "display_data"
    }
   ],
   "source": [
    "# 가장 좋은 것은 10대, 20대, 30대 .. 이런식으로 분류해서 표현하는 것이 가장 좋다.\n",
    "sns.histplot(data = profile, x = 'age')"
   ]
  },
  {
   "cell_type": "code",
   "execution_count": 23,
   "id": "7c31cdec",
   "metadata": {
    "scrolled": true
   },
   "outputs": [
    {
     "data": {
      "text/plain": [
       "<seaborn.axisgrid.FacetGrid at 0x7fe21cc902b0>"
      ]
     },
     "execution_count": 23,
     "metadata": {},
     "output_type": "execute_result"
    },
    {
     "data": {
      "image/png": "[encoded data removed]",
      "text/plain": [
       "<Figure size 1080x360 with 3 Axes>"
      ]
     },
     "metadata": {
      "needs_background": "light"
     },
     "output_type": "display_data"
    }
   ],
   "source": [
    "sns.displot(data = profile, x = 'age', col = 'gender')"
   ]
  },
  {
   "cell_type": "markdown",
   "id": "3d04869a",
   "metadata": {},
   "source": [
    "#### 회원이 된 날짜에 대한 분석\n",
    "> 2013년부터 2016년까지 꾸준하게 회원률이 증가하고 있고, 2017년에 급속도로 많아진 것을 알 수 있습니다. 그렇다면, 2017년에 사회적 이슈나 스타벅스가 진행한 이벤트로 인해서 회원률이 증가한지에 대한 여부를 파악하면 좋을 것 같습니다.\n",
    "\n",
    "> 반대로, 2017년에서 2018년은 회원률이 떨어졌습니다. 이에 대한 이유는 무엇일까요?"
   ]
  },
  {
   "cell_type": "code",
   "execution_count": 12,
   "id": "f0bba444",
   "metadata": {},
   "outputs": [
    {
     "data": {
      "text/plain": [
       "Text(0.5, 1.0, 'became_memeber_years')"
      ]
     },
     "execution_count": 12,
     "metadata": {},
     "output_type": "execute_result"
    },
    {
     "data": {
      "image/png": "[encoded data removed]",
      "text/plain": [
       "<Figure size 1080x576 with 1 Axes>"
      ]
     },
     "metadata": {
      "needs_background": "light"
     },
     "output_type": "display_data"
    }
   ],
   "source": [
    "# 회원이 된 년도에 대한 분석\n",
    "\n",
    "def get_became_years(date):\n",
    "    return datetime(date.year, 1, 1)\n",
    "\n",
    "profile['years'] = profile['became_member_on'].apply(get_became_years)\n",
    "profile_years = profile.groupby('years').count()['id']\n",
    "profile_years.index = ['2013', '2014', '2015', '2016', '2017', '2018']\n",
    "\n",
    "\n",
    "profile_years.plot.barh(figsize = (15, 8))\n",
    "plt.xticks(fontsize = 10)\n",
    "plt.yticks(fontsize = 10)\n",
    "plt.title('became_memeber_years', fontsize = 15)"
   ]
  },
  {
   "cell_type": "code",
   "execution_count": 13,
   "id": "f7982617",
   "metadata": {},
   "outputs": [
    {
     "data": {
      "text/plain": [
       "Text(0.5, 1.0, 'became_memeber_months')"
      ]
     },
     "execution_count": 13,
     "metadata": {},
     "output_type": "execute_result"
    },
    {
     "data": {
      "image/png": "[encoded data removed]",
      "text/plain": [
       "<Figure size 1080x576 with 1 Axes>"
      ]
     },
     "metadata": {
      "needs_background": "light"
     },
     "output_type": "display_data"
    }
   ],
   "source": [
    "# 회원이 된 달에 대한 분석\n",
    "def get_became_months(date):\n",
    "    return datetime(1, date.month, 1)\n",
    "\n",
    "profile['months'] = profile['became_member_on'].apply(get_became_months)\n",
    "\n",
    "profile_months = profile.groupby('months').count()['id']\n",
    "profile_months.index = ['1m', '2m', '3m', '4m', '5m', '6m', '7m', '8m', '9m', '10m', '11m', '12m']\n",
    "\n",
    "profile_months.plot.barh(figsize = (15, 8))\n",
    "plt.xticks(fontsize = 10)\n",
    "plt.yticks(fontsize = 10)\n",
    "plt.title('became_memeber_months', fontsize = 15)"
   ]
  },
  {
   "cell_type": "markdown",
   "id": "27b29f3d",
   "metadata": {},
   "source": [
    "#### 수입에 대한 분석\n",
    "> 설문조사에 참여한 사람들의 수입 분포는 80000 이하에 많이 분포한 것을 알 수 있습니다.\n",
    "\n",
    "> 수입과 연령층을 나누어 볼 수 있다면, 좀 더 심도있는 분석을 할 수 있을텐데..\n",
    "연령층을 10대 ~ 100대로 나누고 그룹핑하고, ['income']을 불러오면?"
   ]
  },
  {
   "cell_type": "code",
   "execution_count": 14,
   "id": "047b239e",
   "metadata": {},
   "outputs": [],
   "source": [
    "profile['income'] = profile['income'].astype(np.int32)"
   ]
  },
  {
   "cell_type": "code",
   "execution_count": 31,
   "id": "c97297a3",
   "metadata": {},
   "outputs": [
    {
     "data": {
      "text/plain": [
       "<AxesSubplot:xlabel='income', ylabel='Count'>"
      ]
     },
     "execution_count": 31,
     "metadata": {},
     "output_type": "execute_result"
    },
    {
     "data": {
      "image/png": "[encoded data removed]",
      "text/plain": [
       "<Figure size 432x288 with 1 Axes>"
      ]
     },
     "metadata": {
      "needs_background": "light"
     },
     "output_type": "display_data"
    }
   ],
   "source": [
    "sns.histplot(data = profile, x = 'income')"
   ]
  },
  {
   "cell_type": "markdown",
   "id": "bcd843f9",
   "metadata": {},
   "source": [
    "#### profile 데이터에 대한 상관관계 분석"
   ]
  },
  {
   "cell_type": "markdown",
   "id": "76d9988b",
   "metadata": {},
   "source": [
    "### 4. transcript에 대한 분석\n",
    "\n",
    "- 각 column마다 원하는 통계량을 찾은 뒤, 해당 통계량을 멋지게 시각화해 줄 plot을 seaborn에서 가져와 구현합니다.\n",
    "\n",
    "\n",
    "- `person`과 `values` column은 분석 대상에서 제외합니다.\n",
    "\n",
    "\n",
    "> values에 대한 패턴이 궁금하다면, 아래 코드를 참고해보세요 ! (배우지 않은 내용이 있어, 어려울 수 있습니다)"
   ]
  },
  {
   "cell_type": "markdown",
   "id": "415432ca",
   "metadata": {},
   "source": [
    "#### event에 대한 분석\n",
    "> event에 가장 많이 참여한 것은 transaction입니다."
   ]
  },
  {
   "cell_type": "code",
   "execution_count": 16,
   "id": "e294df5f",
   "metadata": {},
   "outputs": [
    {
     "data": {
      "text/plain": [
       "Text(0.5, 1.0, 'transcript_event')"
      ]
     },
     "execution_count": 16,
     "metadata": {},
     "output_type": "execute_result"
    },
    {
     "data": {
      "image/png": "[encoded data removed]",
      "text/plain": [
       "<Figure size 1080x576 with 1 Axes>"
      ]
     },
     "metadata": {
      "needs_background": "light"
     },
     "output_type": "display_data"
    }
   ],
   "source": [
    "transcript_event = transcript['event'].value_counts()\n",
    "transcript_event.plot.barh(figsize = (15, 8))\n",
    "plt.xticks(fontsize = 10)\n",
    "plt.yticks(fontsize = 10)\n",
    "plt.title('transcript_event', fontsize = 15)"
   ]
  },
  {
   "cell_type": "markdown",
   "id": "a5232d29",
   "metadata": {},
   "source": [
    "#### time에 대한 분석\n",
    "> time이 의미하는 바가 초인지, 분인지 잘 모르겠습니다."
   ]
  },
  {
   "cell_type": "code",
   "execution_count": 17,
   "id": "54a07742",
   "metadata": {},
   "outputs": [
    {
     "data": {
      "text/plain": [
       "<seaborn.axisgrid.FacetGrid at 0x7fe21bdce850>"
      ]
     },
     "execution_count": 17,
     "metadata": {},
     "output_type": "execute_result"
    },
    {
     "data": {
      "image/png": "[encoded data removed]",
      "text/plain": [
       "<Figure size 1555.38x360 with 4 Axes>"
      ]
     },
     "metadata": {
      "needs_background": "light"
     },
     "output_type": "display_data"
    }
   ],
   "source": [
    "sns.displot(data=transcript, x='time', hue='event', col='event')"
   ]
  },
  {
   "cell_type": "code",
   "execution_count": 40,
   "id": "2fb79189",
   "metadata": {},
   "outputs": [],
   "source": [
    "transcript_time = transcript['time'].value_counts().sort_values()"
   ]
  },
  {
   "cell_type": "code",
   "execution_count": 42,
   "id": "39f283c6",
   "metadata": {},
   "outputs": [
    {
     "data": {
      "text/plain": [
       "<AxesSubplot:>"
      ]
     },
     "execution_count": 42,
     "metadata": {},
     "output_type": "execute_result"
    },
    {
     "data": {
      "image/png": "[encoded data removed]",
      "text/plain": [
       "<Figure size 1440x720 with 1 Axes>"
      ]
     },
     "metadata": {
      "needs_background": "light"
     },
     "output_type": "display_data"
    }
   ],
   "source": [
    "transcript_time.plot.bar(figsize = (20, 10))"
   ]
  },
  {
   "cell_type": "code",
   "execution_count": null,
   "id": "459c80c0",
   "metadata": {},
   "outputs": [],
   "source": []
  }
 ],
 "metadata": {
  "kernelspec": {
   "display_name": "Python 3 (ipykernel)",
   "language": "python",
   "name": "python3"
  },
  "language_info": {
   "codemirror_mode": {
    "name": "ipython",
    "version": 3
   },
   "file_extension": ".py",
   "mimetype": "text/x-python",
   "name": "python",
   "nbconvert_exporter": "python",
   "pygments_lexer": "ipython3",
   "version": "3.9.7"
  }
 },
 "nbformat": 4,
 "nbformat_minor": 5
}
